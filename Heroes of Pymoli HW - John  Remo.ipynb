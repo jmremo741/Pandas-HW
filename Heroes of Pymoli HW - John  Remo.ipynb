{
 "cells": [
  {
   "cell_type": "markdown",
   "metadata": {},
   "source": [
    "# Heroes of Pymoli Data Analysis"
   ]
  },
  {
   "cell_type": "markdown",
   "metadata": {},
   "source": [
    "- Age demographics data  reveal that a  large majority of  people  who play Heroes of Pymoli are aged 20-24 (44.79%) while only 2.08% are aged 40 or above. It is apparent that this game appeals mainly to people aged 15-29.\n",
    "\n",
    "- Among the top 5 most profitable items, \"Oathbreaker, Last  Hope of the Breaking Storm\" was not only the most purchased item, but it was also the cheapest at $4.23. The relatively low item price appears to be correlated with its high purchase count.\n",
    "\n",
    "- Based on the Purchasing Analysis (Age) data, it is not easily apparent that age correlates to average purchasse price although it does seem to be relevant to Total Purchase Value. The majority of people  who  play this game are aged 20-24 so it is no surprise that they eclipse  all other age groups in Total Purchase Value by a large margin at 1114.06 dollars. The\n",
    "The age group with the next highest Total Purchase Value  is 15-19 at $412.89."
   ]
  },
  {
   "cell_type": "code",
   "execution_count": 23,
   "metadata": {},
   "outputs": [],
   "source": [
    " # Dependencies and Setup\n",
    "import pandas as pd\n",
    "import numpy as np\n",
    "\n",
    "# File to Load (Remember to Change These)\n",
    "file_to_load = \"Downloads\\heroes_data.csv\"\n",
    "\n",
    "# Read Purchasing File and store into Pandas data frame\n",
    "df = pd.read_csv(file_to_load)"
   ]
  },
  {
   "cell_type": "code",
   "execution_count": 24,
   "metadata": {},
   "outputs": [
    {
     "data": {
      "text/html": [
       "<div>\n",
       "<style scoped>\n",
       "    .dataframe tbody tr th:only-of-type {\n",
       "        vertical-align: middle;\n",
       "    }\n",
       "\n",
       "    .dataframe tbody tr th {\n",
       "        vertical-align: top;\n",
       "    }\n",
       "\n",
       "    .dataframe thead th {\n",
       "        text-align: right;\n",
       "    }\n",
       "</style>\n",
       "<table border=\"1\" class=\"dataframe\">\n",
       "  <thead>\n",
       "    <tr style=\"text-align: right;\">\n",
       "      <th></th>\n",
       "      <th>Purchase ID</th>\n",
       "      <th>SN</th>\n",
       "      <th>Age</th>\n",
       "      <th>Gender</th>\n",
       "      <th>Item ID</th>\n",
       "      <th>Item Name</th>\n",
       "      <th>Price</th>\n",
       "    </tr>\n",
       "  </thead>\n",
       "  <tbody>\n",
       "    <tr>\n",
       "      <th>0</th>\n",
       "      <td>0</td>\n",
       "      <td>Lisim78</td>\n",
       "      <td>20</td>\n",
       "      <td>Male</td>\n",
       "      <td>108</td>\n",
       "      <td>Extraction, Quickblade Of Trembling Hands</td>\n",
       "      <td>3.53</td>\n",
       "    </tr>\n",
       "    <tr>\n",
       "      <th>1</th>\n",
       "      <td>1</td>\n",
       "      <td>Lisovynya38</td>\n",
       "      <td>40</td>\n",
       "      <td>Male</td>\n",
       "      <td>143</td>\n",
       "      <td>Frenzied Scimitar</td>\n",
       "      <td>1.56</td>\n",
       "    </tr>\n",
       "    <tr>\n",
       "      <th>2</th>\n",
       "      <td>2</td>\n",
       "      <td>Ithergue48</td>\n",
       "      <td>24</td>\n",
       "      <td>Male</td>\n",
       "      <td>92</td>\n",
       "      <td>Final Critic</td>\n",
       "      <td>4.88</td>\n",
       "    </tr>\n",
       "    <tr>\n",
       "      <th>3</th>\n",
       "      <td>3</td>\n",
       "      <td>Chamassasya86</td>\n",
       "      <td>24</td>\n",
       "      <td>Male</td>\n",
       "      <td>100</td>\n",
       "      <td>Blindscythe</td>\n",
       "      <td>3.27</td>\n",
       "    </tr>\n",
       "    <tr>\n",
       "      <th>4</th>\n",
       "      <td>4</td>\n",
       "      <td>Iskosia90</td>\n",
       "      <td>23</td>\n",
       "      <td>Male</td>\n",
       "      <td>131</td>\n",
       "      <td>Fury</td>\n",
       "      <td>1.44</td>\n",
       "    </tr>\n",
       "    <tr>\n",
       "      <th>5</th>\n",
       "      <td>5</td>\n",
       "      <td>Yalae81</td>\n",
       "      <td>22</td>\n",
       "      <td>Male</td>\n",
       "      <td>81</td>\n",
       "      <td>Dreamkiss</td>\n",
       "      <td>3.61</td>\n",
       "    </tr>\n",
       "    <tr>\n",
       "      <th>6</th>\n",
       "      <td>6</td>\n",
       "      <td>Itheria73</td>\n",
       "      <td>36</td>\n",
       "      <td>Male</td>\n",
       "      <td>169</td>\n",
       "      <td>Interrogator, Blood Blade of the Queen</td>\n",
       "      <td>2.18</td>\n",
       "    </tr>\n",
       "    <tr>\n",
       "      <th>7</th>\n",
       "      <td>7</td>\n",
       "      <td>Iskjaskst81</td>\n",
       "      <td>20</td>\n",
       "      <td>Male</td>\n",
       "      <td>162</td>\n",
       "      <td>Abyssal Shard</td>\n",
       "      <td>2.67</td>\n",
       "    </tr>\n",
       "    <tr>\n",
       "      <th>8</th>\n",
       "      <td>8</td>\n",
       "      <td>Undjask33</td>\n",
       "      <td>22</td>\n",
       "      <td>Male</td>\n",
       "      <td>21</td>\n",
       "      <td>Souleater</td>\n",
       "      <td>1.10</td>\n",
       "    </tr>\n",
       "    <tr>\n",
       "      <th>9</th>\n",
       "      <td>9</td>\n",
       "      <td>Chanosian48</td>\n",
       "      <td>35</td>\n",
       "      <td>Other / Non-Disclosed</td>\n",
       "      <td>136</td>\n",
       "      <td>Ghastly Adamantite Protector</td>\n",
       "      <td>3.58</td>\n",
       "    </tr>\n",
       "  </tbody>\n",
       "</table>\n",
       "</div>"
      ],
      "text/plain": [
       "   Purchase ID             SN  Age                 Gender  Item ID  \\\n",
       "0            0        Lisim78   20                   Male      108   \n",
       "1            1    Lisovynya38   40                   Male      143   \n",
       "2            2     Ithergue48   24                   Male       92   \n",
       "3            3  Chamassasya86   24                   Male      100   \n",
       "4            4      Iskosia90   23                   Male      131   \n",
       "5            5        Yalae81   22                   Male       81   \n",
       "6            6      Itheria73   36                   Male      169   \n",
       "7            7    Iskjaskst81   20                   Male      162   \n",
       "8            8      Undjask33   22                   Male       21   \n",
       "9            9    Chanosian48   35  Other / Non-Disclosed      136   \n",
       "\n",
       "                                   Item Name  Price  \n",
       "0  Extraction, Quickblade Of Trembling Hands   3.53  \n",
       "1                          Frenzied Scimitar   1.56  \n",
       "2                               Final Critic   4.88  \n",
       "3                                Blindscythe   3.27  \n",
       "4                                       Fury   1.44  \n",
       "5                                  Dreamkiss   3.61  \n",
       "6     Interrogator, Blood Blade of the Queen   2.18  \n",
       "7                              Abyssal Shard   2.67  \n",
       "8                                  Souleater   1.10  \n",
       "9               Ghastly Adamantite Protector   3.58  "
      ]
     },
     "execution_count": 24,
     "metadata": {},
     "output_type": "execute_result"
    }
   ],
   "source": [
    "df.head(10)"
   ]
  },
  {
   "cell_type": "markdown",
   "metadata": {},
   "source": [
    "# Player Count"
   ]
  },
  {
   "cell_type": "code",
   "execution_count": 25,
   "metadata": {},
   "outputs": [
    {
     "data": {
      "text/html": [
       "<div>\n",
       "<style scoped>\n",
       "    .dataframe tbody tr th:only-of-type {\n",
       "        vertical-align: middle;\n",
       "    }\n",
       "\n",
       "    .dataframe tbody tr th {\n",
       "        vertical-align: top;\n",
       "    }\n",
       "\n",
       "    .dataframe thead th {\n",
       "        text-align: right;\n",
       "    }\n",
       "</style>\n",
       "<table border=\"1\" class=\"dataframe\">\n",
       "  <thead>\n",
       "    <tr style=\"text-align: right;\">\n",
       "      <th></th>\n",
       "      <th>Total Player Count</th>\n",
       "    </tr>\n",
       "  </thead>\n",
       "  <tbody>\n",
       "    <tr>\n",
       "      <th>0</th>\n",
       "      <td>576</td>\n",
       "    </tr>\n",
       "  </tbody>\n",
       "</table>\n",
       "</div>"
      ],
      "text/plain": [
       "   Total Player Count\n",
       "0                 576"
      ]
     },
     "execution_count": 25,
     "metadata": {},
     "output_type": "execute_result"
    }
   ],
   "source": [
    "#Player Count\n",
    "player_count = len(df[\"SN\"].unique())\n",
    "player_count_table = pd.DataFrame({\"Total Player Count\": [player_count]}, columns= [\"Total Player Count\"])\n",
    "player_count_table"
   ]
  },
  {
   "cell_type": "markdown",
   "metadata": {},
   "source": [
    "# Purchasing Analysis (Total)"
   ]
  },
  {
   "cell_type": "code",
   "execution_count": 26,
   "metadata": {},
   "outputs": [
    {
     "data": {
      "text/html": [
       "<div>\n",
       "<style scoped>\n",
       "    .dataframe tbody tr th:only-of-type {\n",
       "        vertical-align: middle;\n",
       "    }\n",
       "\n",
       "    .dataframe tbody tr th {\n",
       "        vertical-align: top;\n",
       "    }\n",
       "\n",
       "    .dataframe thead th {\n",
       "        text-align: right;\n",
       "    }\n",
       "</style>\n",
       "<table border=\"1\" class=\"dataframe\">\n",
       "  <thead>\n",
       "    <tr style=\"text-align: right;\">\n",
       "      <th></th>\n",
       "      <th>Number of Unique Items</th>\n",
       "      <th>Average Price</th>\n",
       "      <th>Number of Purchases</th>\n",
       "      <th>Total Revenue</th>\n",
       "    </tr>\n",
       "  </thead>\n",
       "  <tbody>\n",
       "    <tr>\n",
       "      <th>0</th>\n",
       "      <td>183</td>\n",
       "      <td>$3.05</td>\n",
       "      <td>780</td>\n",
       "      <td>$2379.77</td>\n",
       "    </tr>\n",
       "  </tbody>\n",
       "</table>\n",
       "</div>"
      ],
      "text/plain": [
       "   Number of Unique Items Average Price  Number of Purchases Total Revenue\n",
       "0                     183         $3.05                  780      $2379.77"
      ]
     },
     "execution_count": 26,
     "metadata": {},
     "output_type": "execute_result"
    }
   ],
   "source": [
    "# Unique items count\n",
    "unique_items = len(df[\"Item ID\"].unique())\n",
    "\n",
    "# Average Price\n",
    "average_price = round(df[\"Price\"].mean(), 2)\n",
    "\n",
    "# Number of purchases\n",
    "total_purchases = df[\"Price\"].count()\n",
    "\n",
    "# Total Revenue\n",
    "total_revenue = round(df[\"Price\"].sum(), 2)\n",
    "\n",
    "# List for analysis\n",
    "purchase_analysis = []\n",
    "\n",
    "# Appending values to list\n",
    "purchase_analysis.append(unique_items)\n",
    "purchase_analysis.append(\"$\" + str(average_price))\n",
    "purchase_analysis.append(total_purchases)\n",
    "purchase_analysis.append(\"$\" + str(total_revenue))\n",
    "\n",
    "# Summary Table of Purchase Analysis\n",
    "pd.DataFrame([purchase_analysis], columns = [\"Number of Unique Items\", \"Average Price\", \"Number of Purchases\", \"Total Revenue\"])"
   ]
  },
  {
   "cell_type": "markdown",
   "metadata": {},
   "source": [
    "# Gender Demographics"
   ]
  },
  {
   "cell_type": "code",
   "execution_count": 27,
   "metadata": {},
   "outputs": [
    {
     "data": {
      "text/html": [
       "<style  type=\"text/css\" >\n",
       "</style>  \n",
       "<table id=\"T_c23b3028_1154_11e9_9461_9cb6d0d9efda\" > \n",
       "<thead>    <tr> \n",
       "        <th class=\"blank level0\" ></th> \n",
       "        <th class=\"col_heading level0 col0\" >Total Count</th> \n",
       "        <th class=\"col_heading level0 col1\" >Percentage of Players</th> \n",
       "    </tr>    <tr> \n",
       "        <th class=\"index_name level0\" >Gender</th> \n",
       "        <th class=\"blank\" ></th> \n",
       "        <th class=\"blank\" ></th> \n",
       "    </tr></thead> \n",
       "<tbody>    <tr> \n",
       "        <th id=\"T_c23b3028_1154_11e9_9461_9cb6d0d9efdalevel0_row0\" class=\"row_heading level0 row0\" >Male</th> \n",
       "        <td id=\"T_c23b3028_1154_11e9_9461_9cb6d0d9efdarow0_col0\" class=\"data row0 col0\" >484</td> \n",
       "        <td id=\"T_c23b3028_1154_11e9_9461_9cb6d0d9efdarow0_col1\" class=\"data row0 col1\" >84.03%</td> \n",
       "    </tr>    <tr> \n",
       "        <th id=\"T_c23b3028_1154_11e9_9461_9cb6d0d9efdalevel0_row1\" class=\"row_heading level0 row1\" >Female</th> \n",
       "        <td id=\"T_c23b3028_1154_11e9_9461_9cb6d0d9efdarow1_col0\" class=\"data row1 col0\" >81</td> \n",
       "        <td id=\"T_c23b3028_1154_11e9_9461_9cb6d0d9efdarow1_col1\" class=\"data row1 col1\" >14.06%</td> \n",
       "    </tr>    <tr> \n",
       "        <th id=\"T_c23b3028_1154_11e9_9461_9cb6d0d9efdalevel0_row2\" class=\"row_heading level0 row2\" >Other / Non-Disclosed</th> \n",
       "        <td id=\"T_c23b3028_1154_11e9_9461_9cb6d0d9efdarow2_col0\" class=\"data row2 col0\" >11</td> \n",
       "        <td id=\"T_c23b3028_1154_11e9_9461_9cb6d0d9efdarow2_col1\" class=\"data row2 col1\" >1.91%</td> \n",
       "    </tr></tbody> \n",
       "</table> "
      ],
      "text/plain": [
       "<pandas.io.formats.style.Styler at 0x1a359b292b0>"
      ]
     },
     "execution_count": 27,
     "metadata": {},
     "output_type": "execute_result"
    }
   ],
   "source": [
    "total_count = df[\"SN\"].nunique()\n",
    "male_count = df[df[\"Gender\"] == \"Male\"][\"SN\"].nunique()\n",
    "female_count = df[df[\"Gender\"] == \"Female\"][\"SN\"].nunique()\n",
    "other_count = total_count - male_count - female_count\n",
    "male_percent = ((male_count/total_count)*100)\n",
    "female_percent = ((female_count/total_count)*100)\n",
    "other_percent = ((other_count/total_count)*100)\n",
    "\n",
    "gender_demo_df = pd.DataFrame({\"Gender\": [\"Male\", \"Female\", \"Other / Non-Disclosed\"], \"Percentage of Players\": [male_percent, female_percent, other_percent],\n",
    "                                        \"Total Count\": [male_count, female_count, other_count]}, columns = \n",
    "                                        [\"Gender\",\"Total Count\",\"Percentage of Players\"])\n",
    "                                        \n",
    "gender_demo_final = gender_demo_df.set_index(\"Gender\")\n",
    "gender_demo_final.style.format({\"Percentage of Players\": \"{:.2f}%\"})  "
   ]
  },
  {
   "cell_type": "markdown",
   "metadata": {},
   "source": [
    "# Purchasing Analysis (Gender)"
   ]
  },
  {
   "cell_type": "code",
   "execution_count": 28,
   "metadata": {},
   "outputs": [
    {
     "data": {
      "text/html": [
       "<style  type=\"text/css\" >\n",
       "</style>  \n",
       "<table id=\"T_c2cf60b6_1154_11e9_a9fb_9cb6d0d9efda\" > \n",
       "<thead>    <tr> \n",
       "        <th class=\"blank level0\" ></th> \n",
       "        <th class=\"col_heading level0 col0\" >Purchase Count</th> \n",
       "        <th class=\"col_heading level0 col1\" >Average Purchase Price</th> \n",
       "        <th class=\"col_heading level0 col2\" >Total Purchase Value</th> \n",
       "        <th class=\"col_heading level0 col3\" >Normalized Totals</th> \n",
       "    </tr>    <tr> \n",
       "        <th class=\"index_name level0\" >Gender</th> \n",
       "        <th class=\"blank\" ></th> \n",
       "        <th class=\"blank\" ></th> \n",
       "        <th class=\"blank\" ></th> \n",
       "        <th class=\"blank\" ></th> \n",
       "    </tr></thead> \n",
       "<tbody>    <tr> \n",
       "        <th id=\"T_c2cf60b6_1154_11e9_a9fb_9cb6d0d9efdalevel0_row0\" class=\"row_heading level0 row0\" >Female</th> \n",
       "        <td id=\"T_c2cf60b6_1154_11e9_a9fb_9cb6d0d9efdarow0_col0\" class=\"data row0 col0\" >113</td> \n",
       "        <td id=\"T_c2cf60b6_1154_11e9_a9fb_9cb6d0d9efdarow0_col1\" class=\"data row0 col1\" >$3.20</td> \n",
       "        <td id=\"T_c2cf60b6_1154_11e9_a9fb_9cb6d0d9efdarow0_col2\" class=\"data row0 col2\" >$361.94</td> \n",
       "        <td id=\"T_c2cf60b6_1154_11e9_a9fb_9cb6d0d9efdarow0_col3\" class=\"data row0 col3\" >$4.47</td> \n",
       "    </tr>    <tr> \n",
       "        <th id=\"T_c2cf60b6_1154_11e9_a9fb_9cb6d0d9efdalevel0_row1\" class=\"row_heading level0 row1\" >Male</th> \n",
       "        <td id=\"T_c2cf60b6_1154_11e9_a9fb_9cb6d0d9efdarow1_col0\" class=\"data row1 col0\" >652</td> \n",
       "        <td id=\"T_c2cf60b6_1154_11e9_a9fb_9cb6d0d9efdarow1_col1\" class=\"data row1 col1\" >$3.02</td> \n",
       "        <td id=\"T_c2cf60b6_1154_11e9_a9fb_9cb6d0d9efdarow1_col2\" class=\"data row1 col2\" >$1967.64</td> \n",
       "        <td id=\"T_c2cf60b6_1154_11e9_a9fb_9cb6d0d9efdarow1_col3\" class=\"data row1 col3\" >$4.07</td> \n",
       "    </tr>    <tr> \n",
       "        <th id=\"T_c2cf60b6_1154_11e9_a9fb_9cb6d0d9efdalevel0_row2\" class=\"row_heading level0 row2\" >Other / Non-Disclosed</th> \n",
       "        <td id=\"T_c2cf60b6_1154_11e9_a9fb_9cb6d0d9efdarow2_col0\" class=\"data row2 col0\" >15</td> \n",
       "        <td id=\"T_c2cf60b6_1154_11e9_a9fb_9cb6d0d9efdarow2_col1\" class=\"data row2 col1\" >$3.35</td> \n",
       "        <td id=\"T_c2cf60b6_1154_11e9_a9fb_9cb6d0d9efdarow2_col2\" class=\"data row2 col2\" >$50.19</td> \n",
       "        <td id=\"T_c2cf60b6_1154_11e9_a9fb_9cb6d0d9efdarow2_col3\" class=\"data row2 col3\" >$4.56</td> \n",
       "    </tr></tbody> \n",
       "</table> "
      ],
      "text/plain": [
       "<pandas.io.formats.style.Styler at 0x1a35a4ce470>"
      ]
     },
     "execution_count": 28,
     "metadata": {},
     "output_type": "execute_result"
    }
   ],
   "source": [
    "male_purchases = df[df[\"Gender\"] == \"Male\"][\"Price\"].count()\n",
    "female_purchases = df[df[\"Gender\"] == \"Female\"][\"Price\"].count()\n",
    "other_purchases = total_purchases - male_purchases - female_purchases\n",
    "male_price_avg = df[df[\"Gender\"] == \"Male\"]['Price'].mean()\n",
    "female_price_avg = df[df[\"Gender\"] == \"Female\"]['Price'].mean()\n",
    "other_price_avg = df[df[\"Gender\"] == \"Other / Non-Disclosed\"]['Price'].mean()\n",
    "male_price_total = df[df[\"Gender\"] == \"Male\"]['Price'].sum()\n",
    "female_price_total = df[df[\"Gender\"] == \"Female\"]['Price'].sum()\n",
    "other_price_total = df[df[\"Gender\"] == \"Other / Non-Disclosed\"]['Price'].sum()\n",
    "male_norm = male_price_total/male_count\n",
    "female_norm = female_price_total/female_count\n",
    "other_norm = other_price_total/other_count\n",
    "\n",
    "gender_purchase_df = pd.DataFrame({\"Gender\": [\"Female\", \"Male\", \"Other / Non-Disclosed\"], \"Purchase Count\": [female_purchases, male_purchases, other_purchases],\n",
    "                                        \"Average Purchase Price\": [female_price_avg, male_price_avg, other_price_avg], \"Total Purchase Value\": [female_price_total, male_price_total, other_price_total],\n",
    "                                \"Normalized Totals\": [female_norm, male_norm, other_norm]}, columns = \n",
    "                                        [\"Gender\", \"Purchase Count\", \"Average Purchase Price\", \"Total Purchase Value\", \"Normalized Totals\"])\n",
    "                                        \n",
    "gender_purchase_total = gender_purchase_df.set_index(\"Gender\")\n",
    "gender_purchase_total.style.format({\"Average Purchase Price\": \"${:.2f}\", \"Total Purchase Value\": \"${:.2f}\", \"Normalized Totals\": \"${:.2f}\"})\n"
   ]
  },
  {
   "cell_type": "markdown",
   "metadata": {},
   "source": [
    "# Age Demographics"
   ]
  },
  {
   "cell_type": "code",
   "execution_count": 29,
   "metadata": {},
   "outputs": [
    {
     "data": {
      "text/html": [
       "<style  type=\"text/css\" >\n",
       "</style>  \n",
       "<table id=\"T_c37d8e80_1154_11e9_998f_9cb6d0d9efda\" > \n",
       "<thead>    <tr> \n",
       "        <th class=\"blank level0\" ></th> \n",
       "        <th class=\"col_heading level0 col0\" >Total Count</th> \n",
       "        <th class=\"col_heading level0 col1\" >Percentage of Players</th> \n",
       "    </tr>    <tr> \n",
       "        <th class=\"index_name level0\" >Age</th> \n",
       "        <th class=\"blank\" ></th> \n",
       "        <th class=\"blank\" ></th> \n",
       "    </tr></thead> \n",
       "<tbody>    <tr> \n",
       "        <th id=\"T_c37d8e80_1154_11e9_998f_9cb6d0d9efdalevel0_row0\" class=\"row_heading level0 row0\" ><10</th> \n",
       "        <td id=\"T_c37d8e80_1154_11e9_998f_9cb6d0d9efdarow0_col0\" class=\"data row0 col0\" >17</td> \n",
       "        <td id=\"T_c37d8e80_1154_11e9_998f_9cb6d0d9efdarow0_col1\" class=\"data row0 col1\" >2.95%</td> \n",
       "    </tr>    <tr> \n",
       "        <th id=\"T_c37d8e80_1154_11e9_998f_9cb6d0d9efdalevel0_row1\" class=\"row_heading level0 row1\" >10-14</th> \n",
       "        <td id=\"T_c37d8e80_1154_11e9_998f_9cb6d0d9efdarow1_col0\" class=\"data row1 col0\" >22</td> \n",
       "        <td id=\"T_c37d8e80_1154_11e9_998f_9cb6d0d9efdarow1_col1\" class=\"data row1 col1\" >3.82%</td> \n",
       "    </tr>    <tr> \n",
       "        <th id=\"T_c37d8e80_1154_11e9_998f_9cb6d0d9efdalevel0_row2\" class=\"row_heading level0 row2\" >15-19</th> \n",
       "        <td id=\"T_c37d8e80_1154_11e9_998f_9cb6d0d9efdarow2_col0\" class=\"data row2 col0\" >107</td> \n",
       "        <td id=\"T_c37d8e80_1154_11e9_998f_9cb6d0d9efdarow2_col1\" class=\"data row2 col1\" >18.58%</td> \n",
       "    </tr>    <tr> \n",
       "        <th id=\"T_c37d8e80_1154_11e9_998f_9cb6d0d9efdalevel0_row3\" class=\"row_heading level0 row3\" >20-24</th> \n",
       "        <td id=\"T_c37d8e80_1154_11e9_998f_9cb6d0d9efdarow3_col0\" class=\"data row3 col0\" >258</td> \n",
       "        <td id=\"T_c37d8e80_1154_11e9_998f_9cb6d0d9efdarow3_col1\" class=\"data row3 col1\" >44.79%</td> \n",
       "    </tr>    <tr> \n",
       "        <th id=\"T_c37d8e80_1154_11e9_998f_9cb6d0d9efdalevel0_row4\" class=\"row_heading level0 row4\" >25-29</th> \n",
       "        <td id=\"T_c37d8e80_1154_11e9_998f_9cb6d0d9efdarow4_col0\" class=\"data row4 col0\" >77</td> \n",
       "        <td id=\"T_c37d8e80_1154_11e9_998f_9cb6d0d9efdarow4_col1\" class=\"data row4 col1\" >13.37%</td> \n",
       "    </tr>    <tr> \n",
       "        <th id=\"T_c37d8e80_1154_11e9_998f_9cb6d0d9efdalevel0_row5\" class=\"row_heading level0 row5\" >30-34</th> \n",
       "        <td id=\"T_c37d8e80_1154_11e9_998f_9cb6d0d9efdarow5_col0\" class=\"data row5 col0\" >52</td> \n",
       "        <td id=\"T_c37d8e80_1154_11e9_998f_9cb6d0d9efdarow5_col1\" class=\"data row5 col1\" >9.03%</td> \n",
       "    </tr>    <tr> \n",
       "        <th id=\"T_c37d8e80_1154_11e9_998f_9cb6d0d9efdalevel0_row6\" class=\"row_heading level0 row6\" >35-39</th> \n",
       "        <td id=\"T_c37d8e80_1154_11e9_998f_9cb6d0d9efdarow6_col0\" class=\"data row6 col0\" >31</td> \n",
       "        <td id=\"T_c37d8e80_1154_11e9_998f_9cb6d0d9efdarow6_col1\" class=\"data row6 col1\" >5.38%</td> \n",
       "    </tr>    <tr> \n",
       "        <th id=\"T_c37d8e80_1154_11e9_998f_9cb6d0d9efdalevel0_row7\" class=\"row_heading level0 row7\" >40-44</th> \n",
       "        <td id=\"T_c37d8e80_1154_11e9_998f_9cb6d0d9efdarow7_col0\" class=\"data row7 col0\" >11</td> \n",
       "        <td id=\"T_c37d8e80_1154_11e9_998f_9cb6d0d9efdarow7_col1\" class=\"data row7 col1\" >1.91%</td> \n",
       "    </tr>    <tr> \n",
       "        <th id=\"T_c37d8e80_1154_11e9_998f_9cb6d0d9efdalevel0_row8\" class=\"row_heading level0 row8\" >45-49</th> \n",
       "        <td id=\"T_c37d8e80_1154_11e9_998f_9cb6d0d9efdarow8_col0\" class=\"data row8 col0\" >1</td> \n",
       "        <td id=\"T_c37d8e80_1154_11e9_998f_9cb6d0d9efdarow8_col1\" class=\"data row8 col1\" >0.17%</td> \n",
       "    </tr></tbody> \n",
       "</table> "
      ],
      "text/plain": [
       "<pandas.io.formats.style.Styler at 0x1a35abebe48>"
      ]
     },
     "execution_count": 29,
     "metadata": {},
     "output_type": "execute_result"
    }
   ],
   "source": [
    "under_ten = df[df[\"Age\"] <10]\n",
    "early_teens = df[(df[\"Age\"] >=10) & (df[\"Age\"] <=14)]\n",
    "late_teens = df[(df[\"Age\"] >=15) & (df[\"Age\"] <=19)]\n",
    "early_twenties = df[(df[\"Age\"] >=20) & (df[\"Age\"] <=24)]\n",
    "late_twenties = df[(df[\"Age\"] >=25) & (df[\"Age\"] <=29)]\n",
    "early_thirties = df[(df[\"Age\"] >=30) & (df[\"Age\"] <=34)]\n",
    "late_thirties = df[(df[\"Age\"] >=35) & (df[\"Age\"] <=39)]\n",
    "early_forties = df[(df[\"Age\"] >=40) & (df[\"Age\"] <=44)]\n",
    "late_forties = df[(df[\"Age\"] >=45) & (df[\"Age\"] <=49)]\n",
    "\n",
    "age_demo_df = pd.DataFrame({\"Age\": [\"<10\", \"10-14\", \"15-19\", \"20-24\", \"25-29\", \"30-34\", \"35-39\", \"40-44\", \"45-49\"],\n",
    "                            \"Total Count\": [under_ten[\"SN\"].nunique(), early_teens[\"SN\"].nunique(), late_teens[\"SN\"].nunique(), early_twenties[\"SN\"].nunique(), late_twenties[\"SN\"].nunique(), early_thirties[\"SN\"].nunique(), late_thirties[\"SN\"].nunique(), early_forties[\"SN\"].nunique(), late_forties[\"SN\"].nunique()],\n",
    "                             \"Percentage of Players\": [(under_ten[\"SN\"].nunique()/total_count)*100, (early_teens[\"SN\"].nunique()/total_count)*100, (late_teens[\"SN\"].nunique()/total_count)*100, (early_twenties[\"SN\"].nunique()/total_count)*100, (late_twenties[\"SN\"].nunique()/total_count)*100, (early_thirties[\"SN\"].nunique()/total_count)*100, (late_thirties[\"SN\"].nunique()/total_count)*100, (early_forties[\"SN\"].nunique()/total_count)*100, (late_forties[\"SN\"].nunique()/total_count)*100]})\n",
    "\n",
    "age_demo_final = age_demo_df.set_index(\"Age\")\n",
    "age_demo_final.style.format({\"Percentage of Players\": \"{:.2f}%\"})  \n",
    "                        "
   ]
  },
  {
   "cell_type": "markdown",
   "metadata": {},
   "source": [
    "# Purchasing Analysis (Age)\n"
   ]
  },
  {
   "cell_type": "code",
   "execution_count": 30,
   "metadata": {},
   "outputs": [
    {
     "data": {
      "text/html": [
       "<style  type=\"text/css\" >\n",
       "</style>  \n",
       "<table id=\"T_c41c9ed8_1154_11e9_a2e8_9cb6d0d9efda\" > \n",
       "<thead>    <tr> \n",
       "        <th class=\"blank level0\" ></th> \n",
       "        <th class=\"col_heading level0 col0\" >Purchase Count</th> \n",
       "        <th class=\"col_heading level0 col1\" >Average Purchase Price</th> \n",
       "        <th class=\"col_heading level0 col2\" >Total Purchase Value</th> \n",
       "        <th class=\"col_heading level0 col3\" >Avg Total Purchase per Person</th> \n",
       "    </tr>    <tr> \n",
       "        <th class=\"index_name level0\" >Age</th> \n",
       "        <th class=\"blank\" ></th> \n",
       "        <th class=\"blank\" ></th> \n",
       "        <th class=\"blank\" ></th> \n",
       "        <th class=\"blank\" ></th> \n",
       "    </tr></thead> \n",
       "<tbody>    <tr> \n",
       "        <th id=\"T_c41c9ed8_1154_11e9_a2e8_9cb6d0d9efdalevel0_row0\" class=\"row_heading level0 row0\" >10-14</th> \n",
       "        <td id=\"T_c41c9ed8_1154_11e9_a2e8_9cb6d0d9efdarow0_col0\" class=\"data row0 col0\" >28</td> \n",
       "        <td id=\"T_c41c9ed8_1154_11e9_a2e8_9cb6d0d9efdarow0_col1\" class=\"data row0 col1\" >$2.96</td> \n",
       "        <td id=\"T_c41c9ed8_1154_11e9_a2e8_9cb6d0d9efdarow0_col2\" class=\"data row0 col2\" >$82.78</td> \n",
       "        <td id=\"T_c41c9ed8_1154_11e9_a2e8_9cb6d0d9efdarow0_col3\" class=\"data row0 col3\" >$3.76</td> \n",
       "    </tr>    <tr> \n",
       "        <th id=\"T_c41c9ed8_1154_11e9_a2e8_9cb6d0d9efdalevel0_row1\" class=\"row_heading level0 row1\" >15-19</th> \n",
       "        <td id=\"T_c41c9ed8_1154_11e9_a2e8_9cb6d0d9efdarow1_col0\" class=\"data row1 col0\" >136</td> \n",
       "        <td id=\"T_c41c9ed8_1154_11e9_a2e8_9cb6d0d9efdarow1_col1\" class=\"data row1 col1\" >$3.04</td> \n",
       "        <td id=\"T_c41c9ed8_1154_11e9_a2e8_9cb6d0d9efdarow1_col2\" class=\"data row1 col2\" >$412.89</td> \n",
       "        <td id=\"T_c41c9ed8_1154_11e9_a2e8_9cb6d0d9efdarow1_col3\" class=\"data row1 col3\" >$3.86</td> \n",
       "    </tr>    <tr> \n",
       "        <th id=\"T_c41c9ed8_1154_11e9_a2e8_9cb6d0d9efdalevel0_row2\" class=\"row_heading level0 row2\" >20-24</th> \n",
       "        <td id=\"T_c41c9ed8_1154_11e9_a2e8_9cb6d0d9efdarow2_col0\" class=\"data row2 col0\" >365</td> \n",
       "        <td id=\"T_c41c9ed8_1154_11e9_a2e8_9cb6d0d9efdarow2_col1\" class=\"data row2 col1\" >$3.05</td> \n",
       "        <td id=\"T_c41c9ed8_1154_11e9_a2e8_9cb6d0d9efdarow2_col2\" class=\"data row2 col2\" >$1114.06</td> \n",
       "        <td id=\"T_c41c9ed8_1154_11e9_a2e8_9cb6d0d9efdarow2_col3\" class=\"data row2 col3\" >$4.32</td> \n",
       "    </tr>    <tr> \n",
       "        <th id=\"T_c41c9ed8_1154_11e9_a2e8_9cb6d0d9efdalevel0_row3\" class=\"row_heading level0 row3\" >25-29</th> \n",
       "        <td id=\"T_c41c9ed8_1154_11e9_a2e8_9cb6d0d9efdarow3_col0\" class=\"data row3 col0\" >101</td> \n",
       "        <td id=\"T_c41c9ed8_1154_11e9_a2e8_9cb6d0d9efdarow3_col1\" class=\"data row3 col1\" >$2.90</td> \n",
       "        <td id=\"T_c41c9ed8_1154_11e9_a2e8_9cb6d0d9efdarow3_col2\" class=\"data row3 col2\" >$293.00</td> \n",
       "        <td id=\"T_c41c9ed8_1154_11e9_a2e8_9cb6d0d9efdarow3_col3\" class=\"data row3 col3\" >$3.81</td> \n",
       "    </tr>    <tr> \n",
       "        <th id=\"T_c41c9ed8_1154_11e9_a2e8_9cb6d0d9efdalevel0_row4\" class=\"row_heading level0 row4\" >30-34</th> \n",
       "        <td id=\"T_c41c9ed8_1154_11e9_a2e8_9cb6d0d9efdarow4_col0\" class=\"data row4 col0\" >73</td> \n",
       "        <td id=\"T_c41c9ed8_1154_11e9_a2e8_9cb6d0d9efdarow4_col1\" class=\"data row4 col1\" >$2.93</td> \n",
       "        <td id=\"T_c41c9ed8_1154_11e9_a2e8_9cb6d0d9efdarow4_col2\" class=\"data row4 col2\" >$214.00</td> \n",
       "        <td id=\"T_c41c9ed8_1154_11e9_a2e8_9cb6d0d9efdarow4_col3\" class=\"data row4 col3\" >$4.12</td> \n",
       "    </tr>    <tr> \n",
       "        <th id=\"T_c41c9ed8_1154_11e9_a2e8_9cb6d0d9efdalevel0_row5\" class=\"row_heading level0 row5\" >35-39</th> \n",
       "        <td id=\"T_c41c9ed8_1154_11e9_a2e8_9cb6d0d9efdarow5_col0\" class=\"data row5 col0\" >41</td> \n",
       "        <td id=\"T_c41c9ed8_1154_11e9_a2e8_9cb6d0d9efdarow5_col1\" class=\"data row5 col1\" >$3.60</td> \n",
       "        <td id=\"T_c41c9ed8_1154_11e9_a2e8_9cb6d0d9efdarow5_col2\" class=\"data row5 col2\" >$147.67</td> \n",
       "        <td id=\"T_c41c9ed8_1154_11e9_a2e8_9cb6d0d9efdarow5_col3\" class=\"data row5 col3\" >$4.76</td> \n",
       "    </tr>    <tr> \n",
       "        <th id=\"T_c41c9ed8_1154_11e9_a2e8_9cb6d0d9efdalevel0_row6\" class=\"row_heading level0 row6\" >40-44</th> \n",
       "        <td id=\"T_c41c9ed8_1154_11e9_a2e8_9cb6d0d9efdarow6_col0\" class=\"data row6 col0\" >12</td> \n",
       "        <td id=\"T_c41c9ed8_1154_11e9_a2e8_9cb6d0d9efdarow6_col1\" class=\"data row6 col1\" >$3.04</td> \n",
       "        <td id=\"T_c41c9ed8_1154_11e9_a2e8_9cb6d0d9efdarow6_col2\" class=\"data row6 col2\" >$36.54</td> \n",
       "        <td id=\"T_c41c9ed8_1154_11e9_a2e8_9cb6d0d9efdarow6_col3\" class=\"data row6 col3\" >$3.32</td> \n",
       "    </tr>    <tr> \n",
       "        <th id=\"T_c41c9ed8_1154_11e9_a2e8_9cb6d0d9efdalevel0_row7\" class=\"row_heading level0 row7\" >45-49</th> \n",
       "        <td id=\"T_c41c9ed8_1154_11e9_a2e8_9cb6d0d9efdarow7_col0\" class=\"data row7 col0\" >1</td> \n",
       "        <td id=\"T_c41c9ed8_1154_11e9_a2e8_9cb6d0d9efdarow7_col1\" class=\"data row7 col1\" >$1.70</td> \n",
       "        <td id=\"T_c41c9ed8_1154_11e9_a2e8_9cb6d0d9efdarow7_col2\" class=\"data row7 col2\" >$1.70</td> \n",
       "        <td id=\"T_c41c9ed8_1154_11e9_a2e8_9cb6d0d9efdarow7_col3\" class=\"data row7 col3\" >$1.70</td> \n",
       "    </tr>    <tr> \n",
       "        <th id=\"T_c41c9ed8_1154_11e9_a2e8_9cb6d0d9efdalevel0_row8\" class=\"row_heading level0 row8\" ><10</th> \n",
       "        <td id=\"T_c41c9ed8_1154_11e9_a2e8_9cb6d0d9efdarow8_col0\" class=\"data row8 col0\" >23</td> \n",
       "        <td id=\"T_c41c9ed8_1154_11e9_a2e8_9cb6d0d9efdarow8_col1\" class=\"data row8 col1\" >$3.35</td> \n",
       "        <td id=\"T_c41c9ed8_1154_11e9_a2e8_9cb6d0d9efdarow8_col2\" class=\"data row8 col2\" >$77.13</td> \n",
       "        <td id=\"T_c41c9ed8_1154_11e9_a2e8_9cb6d0d9efdarow8_col3\" class=\"data row8 col3\" >$4.54</td> \n",
       "    </tr></tbody> \n",
       "</table> "
      ],
      "text/plain": [
       "<pandas.io.formats.style.Styler at 0x1a35ac962e8>"
      ]
     },
     "execution_count": 30,
     "metadata": {},
     "output_type": "execute_result"
    }
   ],
   "source": [
    "age_purchasing_df = pd.DataFrame({\"Age\": [\"10-14\", \"15-19\", \"20-24\", \"25-29\", \"30-34\", \"35-39\", \"40-44\", \"45-49\",\"<10\"],\n",
    "                              \"Purchase Count\": [early_teens[\"Price\"].count(), late_teens[\"Price\"].count(), early_twenties[\"Price\"].count(), late_twenties[\"Price\"].count(), early_thirties[\"Price\"].count(), late_thirties[\"Price\"].count(), early_forties[\"Price\"].count(), late_forties[\"Price\"].count(),under_ten[\"Price\"].count()],\n",
    "                              \"Average Purchase Price\": [early_teens[\"Price\"].mean(), late_teens[\"Price\"].mean(), early_twenties[\"Price\"].mean(), late_twenties[\"Price\"].mean(), early_thirties[\"Price\"].mean(), late_thirties[\"Price\"].mean(), early_forties[\"Price\"].mean(), late_forties[\"Price\"].mean(), under_ten[\"Price\"].mean()], \n",
    "                              \"Total Purchase Value\": [early_teens[\"Price\"].sum(), late_teens[\"Price\"].sum(), early_twenties[\"Price\"].sum(), late_twenties[\"Price\"].sum(), early_thirties[\"Price\"].sum(), late_thirties[\"Price\"].sum(), early_forties[\"Price\"].sum(), late_forties[\"Price\"].sum(),under_ten[\"Price\"].sum()],\n",
    "                              \"Avg Total Purchase per Person\": [early_teens[\"Price\"].sum()/early_teens['SN'].nunique(), late_teens[\"Price\"].sum()/late_teens['SN'].nunique(), \n",
    "                                                    early_twenties[\"Price\"].sum()/early_twenties['SN'].nunique(), late_twenties[\"Price\"].sum()/late_twenties['SN'].nunique(), \n",
    "                                                    early_thirties[\"Price\"].sum()/early_thirties['SN'].nunique(), late_thirties[\"Price\"].sum()/late_thirties['SN'].nunique(), \n",
    "                                                    early_forties[\"Price\"].sum()/early_forties['SN'].nunique(), late_forties[\"Price\"].sum()/late_forties['SN'].nunique(), under_ten[\"Price\"].sum()/under_ten['SN'].nunique()]}, columns = \n",
    "        [\"Age\", \"Purchase Count\", \"Average Purchase Price\", \"Total Purchase Value\", \"Avg Total Purchase per Person\"])\n",
    "\n",
    "age_purchasing_final = age_purchasing_df.set_index(\"Age\")\n",
    "\n",
    "age_purchasing_final.style.format({\"Average Purchase Price\": \"${:.2f}\", \"Total Purchase Value\": \"${:.2f}\", \"Avg Total Purchase per Person\": \"${:.2f}\"})"
   ]
  },
  {
   "cell_type": "markdown",
   "metadata": {},
   "source": [
    "# Top Spenders"
   ]
  },
  {
   "cell_type": "code",
   "execution_count": 31,
   "metadata": {},
   "outputs": [
    {
     "data": {
      "text/html": [
       "<style  type=\"text/css\" >\n",
       "</style>  \n",
       "<table id=\"T_c4c09288_1154_11e9_b2b9_9cb6d0d9efda\" > \n",
       "<thead>    <tr> \n",
       "        <th class=\"blank level0\" ></th> \n",
       "        <th class=\"col_heading level0 col0\" >Purchase Count</th> \n",
       "        <th class=\"col_heading level0 col1\" >Average Purchase Price</th> \n",
       "        <th class=\"col_heading level0 col2\" >Total Purchase Value</th> \n",
       "    </tr>    <tr> \n",
       "        <th class=\"index_name level0\" >SN</th> \n",
       "        <th class=\"blank\" ></th> \n",
       "        <th class=\"blank\" ></th> \n",
       "        <th class=\"blank\" ></th> \n",
       "    </tr></thead> \n",
       "<tbody>    <tr> \n",
       "        <th id=\"T_c4c09288_1154_11e9_b2b9_9cb6d0d9efdalevel0_row0\" class=\"row_heading level0 row0\" >Lisosia93</th> \n",
       "        <td id=\"T_c4c09288_1154_11e9_b2b9_9cb6d0d9efdarow0_col0\" class=\"data row0 col0\" >5</td> \n",
       "        <td id=\"T_c4c09288_1154_11e9_b2b9_9cb6d0d9efdarow0_col1\" class=\"data row0 col1\" >$3.79</td> \n",
       "        <td id=\"T_c4c09288_1154_11e9_b2b9_9cb6d0d9efdarow0_col2\" class=\"data row0 col2\" >$18.96</td> \n",
       "    </tr>    <tr> \n",
       "        <th id=\"T_c4c09288_1154_11e9_b2b9_9cb6d0d9efdalevel0_row1\" class=\"row_heading level0 row1\" >Idastidru52</th> \n",
       "        <td id=\"T_c4c09288_1154_11e9_b2b9_9cb6d0d9efdarow1_col0\" class=\"data row1 col0\" >4</td> \n",
       "        <td id=\"T_c4c09288_1154_11e9_b2b9_9cb6d0d9efdarow1_col1\" class=\"data row1 col1\" >$3.86</td> \n",
       "        <td id=\"T_c4c09288_1154_11e9_b2b9_9cb6d0d9efdarow1_col2\" class=\"data row1 col2\" >$15.45</td> \n",
       "    </tr>    <tr> \n",
       "        <th id=\"T_c4c09288_1154_11e9_b2b9_9cb6d0d9efdalevel0_row2\" class=\"row_heading level0 row2\" >Chamjask73</th> \n",
       "        <td id=\"T_c4c09288_1154_11e9_b2b9_9cb6d0d9efdarow2_col0\" class=\"data row2 col0\" >3</td> \n",
       "        <td id=\"T_c4c09288_1154_11e9_b2b9_9cb6d0d9efdarow2_col1\" class=\"data row2 col1\" >$4.61</td> \n",
       "        <td id=\"T_c4c09288_1154_11e9_b2b9_9cb6d0d9efdarow2_col2\" class=\"data row2 col2\" >$13.83</td> \n",
       "    </tr>    <tr> \n",
       "        <th id=\"T_c4c09288_1154_11e9_b2b9_9cb6d0d9efdalevel0_row3\" class=\"row_heading level0 row3\" >Iral74</th> \n",
       "        <td id=\"T_c4c09288_1154_11e9_b2b9_9cb6d0d9efdarow3_col0\" class=\"data row3 col0\" >4</td> \n",
       "        <td id=\"T_c4c09288_1154_11e9_b2b9_9cb6d0d9efdarow3_col1\" class=\"data row3 col1\" >$3.40</td> \n",
       "        <td id=\"T_c4c09288_1154_11e9_b2b9_9cb6d0d9efdarow3_col2\" class=\"data row3 col2\" >$13.62</td> \n",
       "    </tr>    <tr> \n",
       "        <th id=\"T_c4c09288_1154_11e9_b2b9_9cb6d0d9efdalevel0_row4\" class=\"row_heading level0 row4\" >Iskadarya95</th> \n",
       "        <td id=\"T_c4c09288_1154_11e9_b2b9_9cb6d0d9efdarow4_col0\" class=\"data row4 col0\" >3</td> \n",
       "        <td id=\"T_c4c09288_1154_11e9_b2b9_9cb6d0d9efdarow4_col1\" class=\"data row4 col1\" >$4.37</td> \n",
       "        <td id=\"T_c4c09288_1154_11e9_b2b9_9cb6d0d9efdarow4_col2\" class=\"data row4 col2\" >$13.10</td> \n",
       "    </tr></tbody> \n",
       "</table> "
      ],
      "text/plain": [
       "<pandas.io.formats.style.Styler at 0x1a35acae518>"
      ]
     },
     "execution_count": 31,
     "metadata": {},
     "output_type": "execute_result"
    }
   ],
   "source": [
    "sn_total_purchase = df.groupby('SN')['Price'].sum().to_frame()\n",
    "sn_purchase_count = df.groupby('SN')['Price'].count().to_frame()\n",
    "sn_purchase_avg = df.groupby('SN')['Price'].mean().to_frame()\n",
    "\n",
    "sn_total_purchase.columns=[\"Total Purchase Value\"]\n",
    "join_one = sn_total_purchase.join(sn_purchase_count, how=\"left\")\n",
    "join_one.columns=[\"Total Purchase Value\", \"Purchase Count\"]\n",
    "\n",
    "join_two = join_one.join(sn_purchase_avg, how=\"inner\")\n",
    "join_two.columns=[\"Total Purchase Value\", \"Purchase Count\", \"Average Purchase Price\"]\n",
    "\n",
    "top_spenders_df = join_two[[\"Purchase Count\", \"Average Purchase Price\", \"Total Purchase Value\"]]\n",
    "top_spenders_final = top_spenders_df.sort_values('Total Purchase Value', ascending=False).head()\n",
    "top_spenders_final.style.format({\"Average Purchase Price\": \"${:.2f}\", \"Total Purchase Value\": \"${:.2f}\"})"
   ]
  },
  {
   "cell_type": "markdown",
   "metadata": {},
   "source": [
    "# Most Popular Items"
   ]
  },
  {
   "cell_type": "code",
   "execution_count": 32,
   "metadata": {},
   "outputs": [
    {
     "data": {
      "text/html": [
       "<style  type=\"text/css\" >\n",
       "</style>  \n",
       "<table id=\"T_c55c9728_1154_11e9_a3d1_9cb6d0d9efda\" > \n",
       "<thead>    <tr> \n",
       "        <th class=\"blank\" ></th> \n",
       "        <th class=\"blank level0\" ></th> \n",
       "        <th class=\"col_heading level0 col0\" >Purchase Count</th> \n",
       "        <th class=\"col_heading level0 col1\" >Item Price</th> \n",
       "        <th class=\"col_heading level0 col2\" >Total Purchase Value</th> \n",
       "    </tr>    <tr> \n",
       "        <th class=\"index_name level0\" >Item Name</th> \n",
       "        <th class=\"index_name level1\" >Item ID</th> \n",
       "        <th class=\"blank\" ></th> \n",
       "        <th class=\"blank\" ></th> \n",
       "        <th class=\"blank\" ></th> \n",
       "    </tr></thead> \n",
       "<tbody>    <tr> \n",
       "        <th id=\"T_c55c9728_1154_11e9_a3d1_9cb6d0d9efdalevel0_row0\" class=\"row_heading level0 row0\" >Oathbreaker, Last Hope of the Breaking Storm</th> \n",
       "        <th id=\"T_c55c9728_1154_11e9_a3d1_9cb6d0d9efdalevel1_row0\" class=\"row_heading level1 row0\" >178</th> \n",
       "        <td id=\"T_c55c9728_1154_11e9_a3d1_9cb6d0d9efdarow0_col0\" class=\"data row0 col0\" >12</td> \n",
       "        <td id=\"T_c55c9728_1154_11e9_a3d1_9cb6d0d9efdarow0_col1\" class=\"data row0 col1\" >$4.23</td> \n",
       "        <td id=\"T_c55c9728_1154_11e9_a3d1_9cb6d0d9efdarow0_col2\" class=\"data row0 col2\" >$50.76</td> \n",
       "    </tr>    <tr> \n",
       "        <th id=\"T_c55c9728_1154_11e9_a3d1_9cb6d0d9efdalevel0_row1\" class=\"row_heading level0 row1\" >Nirvana</th> \n",
       "        <th id=\"T_c55c9728_1154_11e9_a3d1_9cb6d0d9efdalevel1_row1\" class=\"row_heading level1 row1\" >82</th> \n",
       "        <td id=\"T_c55c9728_1154_11e9_a3d1_9cb6d0d9efdarow1_col0\" class=\"data row1 col0\" >9</td> \n",
       "        <td id=\"T_c55c9728_1154_11e9_a3d1_9cb6d0d9efdarow1_col1\" class=\"data row1 col1\" >$4.90</td> \n",
       "        <td id=\"T_c55c9728_1154_11e9_a3d1_9cb6d0d9efdarow1_col2\" class=\"data row1 col2\" >$44.10</td> \n",
       "    </tr>    <tr> \n",
       "        <th id=\"T_c55c9728_1154_11e9_a3d1_9cb6d0d9efdalevel0_row2\" class=\"row_heading level0 row2\" >Fiery Glass Crusader</th> \n",
       "        <th id=\"T_c55c9728_1154_11e9_a3d1_9cb6d0d9efdalevel1_row2\" class=\"row_heading level1 row2\" >145</th> \n",
       "        <td id=\"T_c55c9728_1154_11e9_a3d1_9cb6d0d9efdarow2_col0\" class=\"data row2 col0\" >9</td> \n",
       "        <td id=\"T_c55c9728_1154_11e9_a3d1_9cb6d0d9efdarow2_col1\" class=\"data row2 col1\" >$4.58</td> \n",
       "        <td id=\"T_c55c9728_1154_11e9_a3d1_9cb6d0d9efdarow2_col2\" class=\"data row2 col2\" >$41.22</td> \n",
       "    </tr>    <tr> \n",
       "        <th id=\"T_c55c9728_1154_11e9_a3d1_9cb6d0d9efdalevel0_row3\" class=\"row_heading level0 row3\" >Extraction, Quickblade Of Trembling Hands</th> \n",
       "        <th id=\"T_c55c9728_1154_11e9_a3d1_9cb6d0d9efdalevel1_row3\" class=\"row_heading level1 row3\" >108</th> \n",
       "        <td id=\"T_c55c9728_1154_11e9_a3d1_9cb6d0d9efdarow3_col0\" class=\"data row3 col0\" >9</td> \n",
       "        <td id=\"T_c55c9728_1154_11e9_a3d1_9cb6d0d9efdarow3_col1\" class=\"data row3 col1\" >$3.53</td> \n",
       "        <td id=\"T_c55c9728_1154_11e9_a3d1_9cb6d0d9efdarow3_col2\" class=\"data row3 col2\" >$31.77</td> \n",
       "    </tr>    <tr> \n",
       "        <th id=\"T_c55c9728_1154_11e9_a3d1_9cb6d0d9efdalevel0_row4\" class=\"row_heading level0 row4\" >Singed Scalpel</th> \n",
       "        <th id=\"T_c55c9728_1154_11e9_a3d1_9cb6d0d9efdalevel1_row4\" class=\"row_heading level1 row4\" >103</th> \n",
       "        <td id=\"T_c55c9728_1154_11e9_a3d1_9cb6d0d9efdarow4_col0\" class=\"data row4 col0\" >8</td> \n",
       "        <td id=\"T_c55c9728_1154_11e9_a3d1_9cb6d0d9efdarow4_col1\" class=\"data row4 col1\" >$4.35</td> \n",
       "        <td id=\"T_c55c9728_1154_11e9_a3d1_9cb6d0d9efdarow4_col2\" class=\"data row4 col2\" >$34.80</td> \n",
       "    </tr>    <tr> \n",
       "        <th id=\"T_c55c9728_1154_11e9_a3d1_9cb6d0d9efdalevel0_row5\" class=\"row_heading level0 row5\" >Wolf</th> \n",
       "        <th id=\"T_c55c9728_1154_11e9_a3d1_9cb6d0d9efdalevel1_row5\" class=\"row_heading level1 row5\" >60</th> \n",
       "        <td id=\"T_c55c9728_1154_11e9_a3d1_9cb6d0d9efdarow5_col0\" class=\"data row5 col0\" >8</td> \n",
       "        <td id=\"T_c55c9728_1154_11e9_a3d1_9cb6d0d9efdarow5_col1\" class=\"data row5 col1\" >$3.54</td> \n",
       "        <td id=\"T_c55c9728_1154_11e9_a3d1_9cb6d0d9efdarow5_col2\" class=\"data row5 col2\" >$28.32</td> \n",
       "    </tr></tbody> \n",
       "</table> "
      ],
      "text/plain": [
       "<pandas.io.formats.style.Styler at 0x1a35ac0ac18>"
      ]
     },
     "execution_count": 32,
     "metadata": {},
     "output_type": "execute_result"
    }
   ],
   "source": [
    "pre_merge_one = df.groupby(\"Item Name\").sum().reset_index()\n",
    "pre_merge_two = df.groupby(\"Item ID\").sum().reset_index()\n",
    "pre_merge_three = df.groupby(\"Item Name\").count().reset_index()\n",
    "\n",
    "merge_one = pd.merge(pre_merge_one, pre_merge_two, on=\"Price\")\n",
    "merge_two = pd.merge(pre_merge_three, merge_one, on=\"Item Name\")\n",
    "\n",
    "merge_two[\"Gender\"] = (merge_two[\"Price_y\"]/merge_two[\"Item ID\"]).round(2)\n",
    "\n",
    "merge_two_renamed = merge_two.rename(columns={\"Age\": \"Purchase Count\", \"Gender\": \"Item Price\", \"Item ID\": \"null\", \"Price_y\": \"Total Purchase Value\", \"Item ID_y\": \"Item ID\"})\n",
    "\n",
    "clean_df = merge_two_renamed[[\"Item ID\", \"Item Name\", \"Purchase Count\", \"Item Price\", \"Total Purchase Value\"]]\n",
    "\n",
    "prefinal_df = clean_df.set_index(['Item Name', 'Item ID'])\n",
    "popular_items_final = prefinal_df.sort_values('Purchase Count', ascending=False).head(6)\n",
    "popular_items_final.style.format({\"Item Price\": \"${:.2f}\", \"Total Purchase Value\": \"${:.2f}\"})"
   ]
  },
  {
   "cell_type": "markdown",
   "metadata": {},
   "source": [
    "# Most Profitable Items"
   ]
  },
  {
   "cell_type": "code",
   "execution_count": 33,
   "metadata": {},
   "outputs": [
    {
     "data": {
      "text/html": [
       "<style  type=\"text/css\" >\n",
       "</style>  \n",
       "<table id=\"T_c602ce86_1154_11e9_b41e_9cb6d0d9efda\" > \n",
       "<thead>    <tr> \n",
       "        <th class=\"blank\" ></th> \n",
       "        <th class=\"blank level0\" ></th> \n",
       "        <th class=\"col_heading level0 col0\" >Purchase Count</th> \n",
       "        <th class=\"col_heading level0 col1\" >Item Price</th> \n",
       "        <th class=\"col_heading level0 col2\" >Total Purchase Value</th> \n",
       "    </tr>    <tr> \n",
       "        <th class=\"index_name level0\" >Item Name</th> \n",
       "        <th class=\"index_name level1\" >Item ID</th> \n",
       "        <th class=\"blank\" ></th> \n",
       "        <th class=\"blank\" ></th> \n",
       "        <th class=\"blank\" ></th> \n",
       "    </tr></thead> \n",
       "<tbody>    <tr> \n",
       "        <th id=\"T_c602ce86_1154_11e9_b41e_9cb6d0d9efdalevel0_row0\" class=\"row_heading level0 row0\" >Oathbreaker, Last Hope of the Breaking Storm</th> \n",
       "        <th id=\"T_c602ce86_1154_11e9_b41e_9cb6d0d9efdalevel1_row0\" class=\"row_heading level1 row0\" >178</th> \n",
       "        <td id=\"T_c602ce86_1154_11e9_b41e_9cb6d0d9efdarow0_col0\" class=\"data row0 col0\" >12</td> \n",
       "        <td id=\"T_c602ce86_1154_11e9_b41e_9cb6d0d9efdarow0_col1\" class=\"data row0 col1\" >$4.23</td> \n",
       "        <td id=\"T_c602ce86_1154_11e9_b41e_9cb6d0d9efdarow0_col2\" class=\"data row0 col2\" >$50.76</td> \n",
       "    </tr>    <tr> \n",
       "        <th id=\"T_c602ce86_1154_11e9_b41e_9cb6d0d9efdalevel0_row1\" class=\"row_heading level0 row1\" >Nirvana</th> \n",
       "        <th id=\"T_c602ce86_1154_11e9_b41e_9cb6d0d9efdalevel1_row1\" class=\"row_heading level1 row1\" >82</th> \n",
       "        <td id=\"T_c602ce86_1154_11e9_b41e_9cb6d0d9efdarow1_col0\" class=\"data row1 col0\" >9</td> \n",
       "        <td id=\"T_c602ce86_1154_11e9_b41e_9cb6d0d9efdarow1_col1\" class=\"data row1 col1\" >$4.90</td> \n",
       "        <td id=\"T_c602ce86_1154_11e9_b41e_9cb6d0d9efdarow1_col2\" class=\"data row1 col2\" >$44.10</td> \n",
       "    </tr>    <tr> \n",
       "        <th id=\"T_c602ce86_1154_11e9_b41e_9cb6d0d9efdalevel0_row2\" class=\"row_heading level0 row2\" >Fiery Glass Crusader</th> \n",
       "        <th id=\"T_c602ce86_1154_11e9_b41e_9cb6d0d9efdalevel1_row2\" class=\"row_heading level1 row2\" >145</th> \n",
       "        <td id=\"T_c602ce86_1154_11e9_b41e_9cb6d0d9efdarow2_col0\" class=\"data row2 col0\" >9</td> \n",
       "        <td id=\"T_c602ce86_1154_11e9_b41e_9cb6d0d9efdarow2_col1\" class=\"data row2 col1\" >$4.58</td> \n",
       "        <td id=\"T_c602ce86_1154_11e9_b41e_9cb6d0d9efdarow2_col2\" class=\"data row2 col2\" >$41.22</td> \n",
       "    </tr>    <tr> \n",
       "        <th id=\"T_c602ce86_1154_11e9_b41e_9cb6d0d9efdalevel0_row3\" class=\"row_heading level0 row3\" >Singed Scalpel</th> \n",
       "        <th id=\"T_c602ce86_1154_11e9_b41e_9cb6d0d9efdalevel1_row3\" class=\"row_heading level1 row3\" >103</th> \n",
       "        <td id=\"T_c602ce86_1154_11e9_b41e_9cb6d0d9efdarow3_col0\" class=\"data row3 col0\" >8</td> \n",
       "        <td id=\"T_c602ce86_1154_11e9_b41e_9cb6d0d9efdarow3_col1\" class=\"data row3 col1\" >$4.35</td> \n",
       "        <td id=\"T_c602ce86_1154_11e9_b41e_9cb6d0d9efdarow3_col2\" class=\"data row3 col2\" >$34.80</td> \n",
       "    </tr>    <tr> \n",
       "        <th id=\"T_c602ce86_1154_11e9_b41e_9cb6d0d9efdalevel0_row4\" class=\"row_heading level0 row4\" >Lightning, Etcher of the King</th> \n",
       "        <th id=\"T_c602ce86_1154_11e9_b41e_9cb6d0d9efdalevel1_row4\" class=\"row_heading level1 row4\" >59</th> \n",
       "        <td id=\"T_c602ce86_1154_11e9_b41e_9cb6d0d9efdarow4_col0\" class=\"data row4 col0\" >8</td> \n",
       "        <td id=\"T_c602ce86_1154_11e9_b41e_9cb6d0d9efdarow4_col1\" class=\"data row4 col1\" >$4.23</td> \n",
       "        <td id=\"T_c602ce86_1154_11e9_b41e_9cb6d0d9efdarow4_col2\" class=\"data row4 col2\" >$33.84</td> \n",
       "    </tr></tbody> \n",
       "</table> "
      ],
      "text/plain": [
       "<pandas.io.formats.style.Styler at 0x1a35ac8f828>"
      ]
     },
     "execution_count": 33,
     "metadata": {},
     "output_type": "execute_result"
    }
   ],
   "source": [
    "profit_items_final = prefinal_df.sort_values('Total Purchase Value', ascending=False).head()\n",
    "profit_items_final.style.format({\"Item Price\": \"${:.2f}\", \"Total Purchase Value\": \"${:.2f}\"})"
   ]
  },
  {
   "cell_type": "code",
   "execution_count": 34,
   "metadata": {},
   "outputs": [
    {
     "ename": "SyntaxError",
     "evalue": "invalid syntax (<ipython-input-34-854a1ef0ba4a>, line 1)",
     "output_type": "error",
     "traceback": [
      "\u001b[1;36m  File \u001b[1;32m\"<ipython-input-34-854a1ef0ba4a>\"\u001b[1;36m, line \u001b[1;32m1\u001b[0m\n\u001b[1;33m    jupyter notebook --ip='*' --NotebookApp.token='' --NotebookApp.password=''\u001b[0m\n\u001b[1;37m                   ^\u001b[0m\n\u001b[1;31mSyntaxError\u001b[0m\u001b[1;31m:\u001b[0m invalid syntax\n"
     ]
    }
   ],
   "source": []
  },
  {
   "cell_type": "code",
   "execution_count": null,
   "metadata": {},
   "outputs": [],
   "source": []
  }
 ],
 "metadata": {
  "kernelspec": {
   "display_name": "Python 3",
   "language": "python",
   "name": "python3"
  },
  "language_info": {
   "codemirror_mode": {
    "name": "ipython",
    "version": 3
   },
   "file_extension": ".py",
   "mimetype": "text/x-python",
   "name": "python",
   "nbconvert_exporter": "python",
   "pygments_lexer": "ipython3",
   "version": "3.7.0"
  }
 },
 "nbformat": 4,
 "nbformat_minor": 2
}
